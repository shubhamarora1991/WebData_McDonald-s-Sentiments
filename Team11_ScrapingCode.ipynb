{
 "cells": [
  {
   "cell_type": "code",
   "execution_count": 294,
   "metadata": {},
   "outputs": [],
   "source": [
    "import numpy as np\n",
    "import pandas as pd\n",
    "import seaborn as sns\n",
    "import matplotlib.pyplot as plt\n",
    "%matplotlib inline"
   ]
  },
  {
   "cell_type": "code",
   "execution_count": 295,
   "metadata": {},
   "outputs": [],
   "source": [
    "df_1 = pd.read_csv('C1.csv', index_col = 0)\n",
    "df_2 = pd.read_csv('C2.csv', index_col = 0)\n",
    "df_3 = pd.read_csv('C3.csv', index_col = 0)\n",
    "df_4 = pd.read_csv('C4.csv', index_col = 0)\n",
    "df_5 = pd.read_csv('C5.csv', index_col = 0)\n",
    "df_6 = pd.read_csv('C6.csv', index_col = 0)\n",
    "df_7 = pd.read_csv('C7.csv', index_col = 0)\n",
    "df_8 = pd.read_csv('C8.csv', index_col = 0)\n",
    "df_9 = pd.read_csv('C9.csv', index_col = 0)\n",
    "df_10 = pd.read_csv('C10.csv', index_col = 0)"
   ]
  },
  {
   "cell_type": "code",
   "execution_count": 297,
   "metadata": {},
   "outputs": [],
   "source": [
    "df_1['County'] = 1\n",
    "df_2['County'] = 2\n",
    "df_3['County'] = 3\n",
    "df_4['County'] = 4\n",
    "df_5['County'] = 5\n",
    "df_6['County'] = 6\n",
    "df_7['County'] = 7\n",
    "df_8['County'] = 8\n",
    "df_9['County'] = 9\n",
    "df_10['County'] = 10"
   ]
  },
  {
   "cell_type": "code",
   "execution_count": 299,
   "metadata": {},
   "outputs": [],
   "source": [
    "frames = [df_1,df_2, df_3, df_4, df_5, df_6, df_7, df_8, df_9, df_10]"
   ]
  },
  {
   "cell_type": "code",
   "execution_count": 300,
   "metadata": {},
   "outputs": [],
   "source": [
    "df = pd.concat(frames) #contains reviews of the 10 counties"
   ]
  },
  {
   "cell_type": "code",
   "execution_count": 302,
   "metadata": {},
   "outputs": [],
   "source": [
    "#contains all reviews which have the above words. \n",
    "#This code filters the sentences which have the words in the list and discards the rest of the sentence\n",
    "  \n",
    "\n",
    "reviews= []\n",
    "County = []\n",
    "x1 = []\n",
    "str_line = ''\n",
    "count = 1\n",
    "for review in df['review']:\n",
    "    str_line = ''\n",
    "    line = review.split('.')\n",
    "    \n",
    "    for f in line:\n",
    "        if any(x in f.lower() for x in ['clean', 'spotless', 'filthy', 'garbage', 'dirty', 'contaminated', 'sanitize','bathroom', 'toilet', ]): \n",
    "            str_line = str_line + '.' + ' ' + str(f)\n",
    "    reviews.append(review)\n",
    "    \n",
    "    \n",
    "    x1.append(str_line)   "
   ]
  },
  {
   "cell_type": "code",
   "execution_count": 303,
   "metadata": {},
   "outputs": [],
   "source": [
    "#contains all reviews which have the above words. \n",
    "#This code filters the sentences which have the words in the list and discards the rest of the sentence\n",
    "x2 = []\n",
    "str_line = ''\n",
    "count = 1\n",
    "for review in df['review']:\n",
    "    str_line = ''\n",
    "    line = review.split('.')\n",
    "    \n",
    "    for f in line:\n",
    "        if any(x in f.lower() for x in ['service', 'serve']): \n",
    "            str_line = str_line + '.' + ' ' + str(f)\n",
    "    x2.append(str_line)"
   ]
  },
  {
   "cell_type": "code",
   "execution_count": 304,
   "metadata": {},
   "outputs": [],
   "source": [
    "#contains all reviews which have the above words. \n",
    "#This code filters the sentences which have the words in the list and discards the rest of the sentence\n",
    "x3 = []\n",
    "str_line = ''\n",
    "count = 1\n",
    "for review in df['review']:\n",
    "    str_line = ''\n",
    "    line = review.split('.')\n",
    "    \n",
    "    for f in line:\n",
    "        if any(x in f.lower() for x in ['manager', 'employee', 'staff']): \n",
    "            str_line = str_line + '.' + ' ' + str(f)\n",
    "    x3.append(str_line)"
   ]
  },
  {
   "cell_type": "code",
   "execution_count": 305,
   "metadata": {},
   "outputs": [],
   "source": [
    "#contains all reviews which have the above words. \n",
    "#This code filters the sentences which have the words in the list and discards the rest of the sentence\n",
    "x4 = []\n",
    "str_line = ''\n",
    "count = 1\n",
    "for review in df['review']:\n",
    "    str_line = ''\n",
    "    line = review.split('.')\n",
    "    \n",
    "    for f in line:\n",
    "        if any(x in f.lower() for x in ['interior', 'design', 'packed', 'crowd', 'line', 'patience']): \n",
    "            str_line = str_line + '.' + ' ' + str(f)\n",
    "    x4.append(str_line)"
   ]
  },
  {
   "cell_type": "code",
   "execution_count": 306,
   "metadata": {},
   "outputs": [],
   "source": [
    "#contains all reviews which have the above words. \n",
    "#This code filters the sentences which have the words in  the list and discards the rest of the sentence\n",
    "y = []\n",
    "str_line = ''\n",
    "count = 1\n",
    "for review in df['review']:\n",
    "    str_line = ''\n",
    "    line = review.split('.')\n",
    "    \n",
    "    for f in line:\n",
    "        if any(x in f.lower() for x in ['kiosk', 'automate', 'self-service']): \n",
    "            str_line = str_line + '.' + ' ' + str(f)\n",
    "    y.append(str_line)"
   ]
  },
  {
   "cell_type": "code",
   "execution_count": 307,
   "metadata": {},
   "outputs": [],
   "source": [
    "dfc = pd.DataFrame()  #contains the data on which we did the analysis, it has one dependent and four dependent variables\n",
    "dfc['County'] = df['County']\n",
    "dfc['review']= reviews\n",
    "dfc['x1'] = x1\n",
    "dfc['x2'] = x2\n",
    "dfc['x3'] = x3\n",
    "dfc['x4'] = x4\n",
    "dfc['y'] = y\n",
    "\n"
   ]
  },
  {
   "cell_type": "code",
   "execution_count": 310,
   "metadata": {},
   "outputs": [],
   "source": [
    "dfc.to_csv('10CC_1.csv') #contains the edited reviews for the entire dataset"
   ]
  },
  {
   "cell_type": "code",
   "execution_count": 309,
   "metadata": {},
   "outputs": [
    {
     "data": {
      "text/html": [
       "<div>\n",
       "<style scoped>\n",
       "    .dataframe tbody tr th:only-of-type {\n",
       "        vertical-align: middle;\n",
       "    }\n",
       "\n",
       "    .dataframe tbody tr th {\n",
       "        vertical-align: top;\n",
       "    }\n",
       "\n",
       "    .dataframe thead th {\n",
       "        text-align: right;\n",
       "    }\n",
       "</style>\n",
       "<table border=\"1\" class=\"dataframe\">\n",
       "  <thead>\n",
       "    <tr style=\"text-align: right;\">\n",
       "      <th></th>\n",
       "      <th>County</th>\n",
       "      <th>review</th>\n",
       "      <th>x1</th>\n",
       "      <th>x2</th>\n",
       "      <th>x3</th>\n",
       "      <th>x4</th>\n",
       "      <th>y</th>\n",
       "    </tr>\n",
       "  </thead>\n",
       "  <tbody>\n",
       "    <tr>\n",
       "      <th>0</th>\n",
       "      <td>1</td>\n",
       "      <td>Great for kids! Easy to order screen. My kids ...</td>\n",
       "      <td></td>\n",
       "      <td></td>\n",
       "      <td></td>\n",
       "      <td></td>\n",
       "      <td></td>\n",
       "    </tr>\n",
       "    <tr>\n",
       "      <th>1</th>\n",
       "      <td>1</td>\n",
       "      <td>I've seen the future of McDonald's at this loc...</td>\n",
       "      <td></td>\n",
       "      <td></td>\n",
       "      <td>.  Even the employees can't effectively naviga...</td>\n",
       "      <td></td>\n",
       "      <td>.   As a former tech exec that has done thousa...</td>\n",
       "    </tr>\n",
       "    <tr>\n",
       "      <th>2</th>\n",
       "      <td>1</td>\n",
       "      <td>Super fast service and good location. They hav...</td>\n",
       "      <td></td>\n",
       "      <td>. Super fast service and good location</td>\n",
       "      <td></td>\n",
       "      <td></td>\n",
       "      <td></td>\n",
       "    </tr>\n",
       "    <tr>\n",
       "      <th>3</th>\n",
       "      <td>1</td>\n",
       "      <td>Staff is very polite and pleasant, however it ...</td>\n",
       "      <td></td>\n",
       "      <td></td>\n",
       "      <td>. Staff is very polite and pleasant, however i...</td>\n",
       "      <td></td>\n",
       "      <td></td>\n",
       "    </tr>\n",
       "    <tr>\n",
       "      <th>4</th>\n",
       "      <td>1</td>\n",
       "      <td>This McDonald's is one of the ones that have b...</td>\n",
       "      <td>.  They cleaned up the place and one of the gu...</td>\n",
       "      <td>.    Customer service from the younger employe...</td>\n",
       "      <td>.    Customer service from the younger employe...</td>\n",
       "      <td></td>\n",
       "      <td></td>\n",
       "    </tr>\n",
       "  </tbody>\n",
       "</table>\n",
       "</div>"
      ],
      "text/plain": [
       "   County                                             review  \\\n",
       "0       1  Great for kids! Easy to order screen. My kids ...   \n",
       "1       1  I've seen the future of McDonald's at this loc...   \n",
       "2       1  Super fast service and good location. They hav...   \n",
       "3       1  Staff is very polite and pleasant, however it ...   \n",
       "4       1  This McDonald's is one of the ones that have b...   \n",
       "\n",
       "                                                  x1  \\\n",
       "0                                                      \n",
       "1                                                      \n",
       "2                                                      \n",
       "3                                                      \n",
       "4  .  They cleaned up the place and one of the gu...   \n",
       "\n",
       "                                                  x2  \\\n",
       "0                                                      \n",
       "1                                                      \n",
       "2             . Super fast service and good location   \n",
       "3                                                      \n",
       "4  .    Customer service from the younger employe...   \n",
       "\n",
       "                                                  x3 x4  \\\n",
       "0                                                         \n",
       "1  .  Even the employees can't effectively naviga...      \n",
       "2                                                         \n",
       "3  . Staff is very polite and pleasant, however i...      \n",
       "4  .    Customer service from the younger employe...      \n",
       "\n",
       "                                                   y  \n",
       "0                                                     \n",
       "1  .   As a former tech exec that has done thousa...  \n",
       "2                                                     \n",
       "3                                                     \n",
       "4                                                     "
      ]
     },
     "execution_count": 309,
     "metadata": {},
     "output_type": "execute_result"
    }
   ],
   "source": [
    "dfc.head()"
   ]
  },
  {
   "cell_type": "code",
   "execution_count": 332,
   "metadata": {},
   "outputs": [],
   "source": [
    "#using microsoft azure to extract the sentiment of reviews for the entire dataframe\n",
    "\n",
    "yourKey = \"bfa591d8479c46dea2286649aaa4899c\"\n",
    "import requests\n",
    "import time\n",
    "sentiments_x4 = [] #the list stores the sentiments of the reviews for a row in the dataframe, in this case x4\n",
    "review_number = 1\n",
    "time_counter = time.time()\n",
    "for review in df['y']:\n",
    "    if review == 'Blank Records':\n",
    "        sentiments_x4.append('Not Valid')\n",
    "    else:\n",
    "    \n",
    "    \n",
    "        if review_number % 100 == 0:\n",
    "            print(\"waiting\")\n",
    "            print(abs(75 - (time.time() - time_counter)))\n",
    "            time.sleep(abs(75 - (time.time() - time_counter)))\n",
    "            time_counter = time.time()\n",
    "        print(review_number)\n",
    "        review_number+=1\n",
    "        text_analytics_base_url = \"https://westcentralus.api.cognitive.microsoft.com/text/analytics/v2.0/\"\n",
    "    \n",
    "        sentiment_api_url = text_analytics_base_url + \"sentiment\"\n",
    "    \n",
    "        documents = {'documents' : [\n",
    "          {'id': '1', 'language': 'en', 'text': review}]}\n",
    "    \n",
    "        headers   = {\"Ocp-Apim-Subscription-Key\": yourKey}\n",
    "        response  = requests.post(sentiment_api_url, headers=headers, json=documents)\n",
    "        sentiments = response.json()\n",
    "        print(sentiments)\n",
    "        sentiments_x4.append(sentiments['documents'][0]['score'])"
   ]
  },
  {
   "cell_type": "code",
   "execution_count": 334,
   "metadata": {},
   "outputs": [],
   "source": [
    "\n"
   ]
  }
 ],
 "metadata": {
  "kernelspec": {
   "display_name": "Python 3",
   "language": "python",
   "name": "python3"
  },
  "language_info": {
   "codemirror_mode": {
    "name": "ipython",
    "version": 3
   },
   "file_extension": ".py",
   "mimetype": "text/x-python",
   "name": "python",
   "nbconvert_exporter": "python",
   "pygments_lexer": "ipython3",
   "version": "3.6.5"
  }
 },
 "nbformat": 4,
 "nbformat_minor": 2
}
